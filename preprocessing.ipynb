{
 "cells": [
  {
   "cell_type": "code",
   "execution_count": null,
   "metadata": {},
   "outputs": [],
   "source": [
    "import pandas as pd\n",
    "import numpy as np"
   ]
  },
  {
   "cell_type": "markdown",
   "metadata": {},
   "source": [
    "## Load Data"
   ]
  },
  {
   "cell_type": "code",
   "execution_count": null,
   "metadata": {},
   "outputs": [],
   "source": [
    "IDS_MAPPING_FN = \"./data/IDS_mapping.csv\"\n",
    "DIABETIC_FN = \"./data/diabetic_data.csv\""
   ]
  },
  {
   "cell_type": "code",
   "execution_count": null,
   "metadata": {},
   "outputs": [],
   "source": [
    "# read files\n",
    "mapping = pd.read_csv(IDS_MAPPING_FN, header=None)\n",
    "df = pd.read_csv(DIABETIC_FN)\n",
    "print(df.shape)"
   ]
  },
  {
   "cell_type": "markdown",
   "metadata": {},
   "source": [
    "Create dictionary of code-value mappings of `admission_type_id`, `discharge_disposition_id`, and `admission_source_id` using the mapping provided in the data-folder."
   ]
  },
  {
   "cell_type": "code",
   "execution_count": null,
   "metadata": {},
   "outputs": [],
   "source": [
    "admission_type_dict = {}\n",
    "discharge_disposition_dict = {}\n",
    "admission_source_dict = {}\n",
    "\n",
    "list1 = []\n",
    "for i, j in zip(mapping[0].values, mapping[1].values):\n",
    "  if len(str(i))>3:\n",
    "    feature_name = i\n",
    "  elif len(str(i))!=3:\n",
    "    if feature_name == 'admission_type_id':\n",
    "      admission_type_dict[int(i)] = j\n",
    "    elif feature_name == 'discharge_disposition_id':\n",
    "      discharge_disposition_dict[int(i)] = j\n",
    "    elif feature_name == 'admission_source_id':\n",
    "      admission_source_dict[int(i)] = j"
   ]
  },
  {
   "cell_type": "markdown",
   "metadata": {},
   "source": [
    "Create columns in dataframe with where the codes are mapped to the values"
   ]
  },
  {
   "cell_type": "code",
   "execution_count": null,
   "metadata": {},
   "outputs": [],
   "source": [
    "df['admission_type'] = df['admission_type_id'].map(admission_type_dict).astype(\"O\")\n",
    "df['discharge_disposition'] = df['discharge_disposition_id'].map(discharge_disposition_dict).astype(\"O\")\n",
    "df['admission_source'] = df['admission_source_id'].map(admission_source_dict).astype(\"O\")"
   ]
  },
  {
   "cell_type": "markdown",
   "metadata": {},
   "source": [
    "## Explore Dataset"
   ]
  },
  {
   "cell_type": "code",
   "execution_count": null,
   "metadata": {},
   "outputs": [],
   "source": [
    "print(f\"Number of unique encounters: {df.shape[0]}\")\n",
    "print(f\"Number of columns: {df.shape[1]}\")"
   ]
  },
  {
   "cell_type": "code",
   "execution_count": null,
   "metadata": {},
   "outputs": [],
   "source": [
    "df.info()"
   ]
  },
  {
   "cell_type": "code",
   "execution_count": null,
   "metadata": {},
   "outputs": [],
   "source": [
    "for column in df.select_dtypes(include = ['O']).columns:\n",
    "  if column == \"diag_1\" or column==\"diag_2\":\n",
    "    print(df[df[column]=='250'].shape) # diabetic as diagnosis 1 or 2\n",
    "  print('===========================')\n",
    "  print(f'Column name: {column}')\n",
    "  print('===========================')\n",
    "  print(df[column].value_counts(dropna=False))\n",
    "  print()"
   ]
  },
  {
   "cell_type": "code",
   "execution_count": null,
   "metadata": {},
   "outputs": [],
   "source": [
    "for column in df.select_dtypes(include = ['int64']).columns:\n",
    "  if column == \"diag_1\" or column==\"diag_2\":\n",
    "    print(df[df[column]=='250'].shape) # diabetic as diagnosis 1 or 2\n",
    "  print('===========================')\n",
    "  print(f'Column name: {column}')\n",
    "  print('===========================')\n",
    "  print(df[column].value_counts(dropna=False))\n",
    "  print()"
   ]
  },
  {
   "cell_type": "markdown",
   "metadata": {},
   "source": [
    "## Preprocessing"
   ]
  },
  {
   "cell_type": "markdown",
   "metadata": {},
   "source": [
    "As seen above some patients have many encounters (up to 40).\n",
    "\n",
    "We only keep the first observation for each unique patient."
   ]
  },
  {
   "cell_type": "code",
   "execution_count": null,
   "metadata": {},
   "outputs": [],
   "source": [
    "df = df.groupby(\"patient_nbr\").agg('first')\n",
    "print(f\"Number of unique encounters after only keeping first encounter for each patient: {df.shape[0]}\")"
   ]
  },
  {
   "cell_type": "markdown",
   "metadata": {},
   "source": [
    "We only keep observations with `admission_type` Emergency, Urgent or Elective."
   ]
  },
  {
   "cell_type": "code",
   "execution_count": null,
   "metadata": {},
   "outputs": [],
   "source": [
    "df = df[df['admission_type'].isin(['Emergency', 'Urgent', 'Elective'])]\n",
    "print(f\"Number of unique encounters: {df.shape[0]}\")"
   ]
  },
  {
   "cell_type": "markdown",
   "metadata": {},
   "source": [
    "Make flags variables indicating whether a `max_glu_serum`, and a `AC1result` test was done."
   ]
  },
  {
   "cell_type": "code",
   "execution_count": null,
   "metadata": {},
   "outputs": [],
   "source": [
    "df['max_glu_serum_flag'] = df['max_glu_serum'].notnull().astype(int)\n",
    "df['A1C_flag'] = df['A1Cresult'].notnull().astype(int)"
   ]
  },
  {
   "cell_type": "markdown",
   "metadata": {},
   "source": [
    "Make a binary variable for readmission, which indicates whether the patient was readmitted before 30 days. "
   ]
  },
  {
   "cell_type": "code",
   "execution_count": null,
   "metadata": {},
   "outputs": [],
   "source": [
    "df['readmitted_flag'] = np.where(df['readmitted']=='<30', 1, 0)"
   ]
  },
  {
   "cell_type": "markdown",
   "metadata": {},
   "source": [
    "Make a binary flag variable indicating whether any of the medicines had the value *Up* or *Down*."
   ]
  },
  {
   "cell_type": "code",
   "execution_count": null,
   "metadata": {},
   "outputs": [],
   "source": [
    "medicine_columns = df.columns[23:46].tolist()\n",
    "df['change_dosage'] = df[medicine_columns].isin(['Up', 'Down']).any(axis=1).astype(int)"
   ]
  },
  {
   "cell_type": "markdown",
   "metadata": {},
   "source": [
    "The column `change` indicates if there was a change in diabetic medications (either dosage or generic name). So if `change` is marked as changed but `change_dosage` is none, then there must have been a change in the generic name, i.e. the chemical name of a medicine."
   ]
  },
  {
   "cell_type": "code",
   "execution_count": null,
   "metadata": {},
   "outputs": [],
   "source": [
    "df['change_medicine'] = np.where((df['change'] == 'Ch') & (df['change_dosage'] == 0), 1, 0)"
   ]
  },
  {
   "cell_type": "code",
   "execution_count": null,
   "metadata": {},
   "outputs": [],
   "source": [
    "#Problem here\n",
    "print(f\"{df['change_medicine'].value_counts()[1] + df['change_medicine'].value_counts()[1]}\") \n",
    "print(f\"{df['change'].value_counts()[1]}\")"
   ]
  },
  {
   "cell_type": "markdown",
   "metadata": {},
   "source": [
    "## Define variables"
   ]
  },
  {
   "cell_type": "code",
   "execution_count": null,
   "metadata": {},
   "outputs": [],
   "source": [
    "feature_names = [\"time_in_hospital\", \"admission_type\", \"num_lab_procedures\", \"num_procedures\", \"num_medications\", \n",
    "                     \"number_outpatient\", \"number_inpatient\", \"number_emergency\", \"number_diagnoses\", \"diabetesMed\", \"insurance\", 'max_glu_serum_flag', 'A1C_flag', 'change_dosage', 'change_medicine', 'diabetesMed']"
   ]
  },
  {
   "cell_type": "code",
   "execution_count": null,
   "metadata": {},
   "outputs": [],
   "source": [
    "target_name = [\"readmitted_flag\"] "
   ]
  },
  {
   "cell_type": "code",
   "execution_count": null,
   "metadata": {},
   "outputs": [],
   "source": [
    "protected_names = ['age', 'race', 'gender']"
   ]
  },
  {
   "cell_type": "markdown",
   "metadata": {},
   "source": [
    "## EDA"
   ]
  }
 ],
 "metadata": {
  "kernelspec": {
   "display_name": "algo_fairness",
   "language": "python",
   "name": "python3"
  },
  "language_info": {
   "codemirror_mode": {
    "name": "ipython",
    "version": 3
   },
   "file_extension": ".py",
   "mimetype": "text/x-python",
   "name": "python",
   "nbconvert_exporter": "python",
   "pygments_lexer": "ipython3",
   "version": "3.11.5"
  }
 },
 "nbformat": 4,
 "nbformat_minor": 2
}
